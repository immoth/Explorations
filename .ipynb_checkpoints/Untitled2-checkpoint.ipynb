{
 "cells": [
  {
   "cell_type": "markdown",
   "metadata": {},
   "source": [
    "# Phase Esitimation Eigensolver"
   ]
  },
  {
   "cell_type": "code",
   "execution_count": 58,
   "metadata": {},
   "outputs": [],
   "source": [
    "import qiskit.quantum_info as qi\n",
    "import numpy as np\n",
    "import pandas as pd"
   ]
  },
  {
   "cell_type": "code",
   "execution_count": 14,
   "metadata": {},
   "outputs": [],
   "source": [
    "def I0(L):\n",
    "    label = \"\"\n",
    "    for i in range(0,L):\n",
    "        label += \"I\"\n",
    "    return qi.Operator.from_label(label).data\n",
    "\n",
    "def X(l,L):\n",
    "    label = \"\"\n",
    "    for i in range(0,l):\n",
    "        label += \"I\"\n",
    "    label += \"X\"\n",
    "    for i in range(l+1,L):\n",
    "        label += \"I\"\n",
    "    return qi.Operator.from_label(label).data\n",
    "\n",
    "def Y(l,L):\n",
    "    label = \"\"\n",
    "    for i in range(0,l):\n",
    "        label += \"I\"\n",
    "    label += \"Y\"\n",
    "    for i in range(l+1,L):\n",
    "        label += \"I\"\n",
    "    return qi.Operator.from_label(label).data\n",
    "\n",
    "def Z(l,L):\n",
    "    label = \"\"\n",
    "    for i in range(0,l):\n",
    "        label += \"I\"\n",
    "    label += \"Z\"\n",
    "    for i in range(l+1,L):\n",
    "        label += \"I\"\n",
    "    return qi.Operator.from_label(label).data\n",
    "\n",
    "def Mdot(Ol):\n",
    "    m = Ol[0]\n",
    "    for i in range(1,len(Ol)):\n",
    "        m = np.dot(Ol[i],m)\n",
    "    return m"
   ]
  },
  {
   "cell_type": "markdown",
   "metadata": {},
   "source": [
    "## Quantum fourier transform"
   ]
  },
  {
   "cell_type": "code",
   "execution_count": 106,
   "metadata": {},
   "outputs": [],
   "source": [
    "def H(l,L):\n",
    "    return 1/np.sqrt(2)*(X(l,L)+Z(l,L))\n",
    "\n",
    "def SWAP(l,ll,L):\n",
    "    return 1/2*(Mdot([X(l,L),X(ll,L)])+Mdot([Y(l,L),Y(ll,L)])+I0(L)+Mdot([Z(l,L),Z(ll,L)]))\n",
    "\n",
    "def CROT(k,l,ll,L):\n",
    "    return I0(L)-1/4*Mdot([(I0(L)-Z(l,L)),(I0(L)-Z(ll,L))])+np.exp(1j*2*np.pi/(2**k))*1/4*Mdot([(I0(L)-Z(l,L)),(I0(L)-Z(ll,L))])"
   ]
  },
  {
   "cell_type": "code",
   "execution_count": 224,
   "metadata": {},
   "outputs": [],
   "source": [
    "def apply_QFT(psi):\n",
    "    check = []\n",
    "    L = int(np.log2(len(psi)))\n",
    "    psi_f = psi\n",
    "    check.append(\"psi\")\n",
    "    for l in range(0,L):\n",
    "        psi_f = Mdot([H(l,L),psi_f])\n",
    "        check.append(\"H\"+str(l))\n",
    "        for ll in range(l+1,L):\n",
    "            k = (ll-l)+1\n",
    "            psi_f = Mdot([CROT(k,l,ll,L),psi_f])\n",
    "            check.append(\"C\"+str(k)+str(l)+str(ll))\n",
    "    for l in range(0,int(L/2)):\n",
    "        psi_f = Mdot([SWAP(l,L-1-l,L),psi_f])\n",
    "        check.append(\"S\"+str(l)+str(L-1-l))\n",
    "    print(check)\n",
    "    return psi_f\n",
    "\n",
    "def QFT(L):\n",
    "    L = int(np.log2(len(psi)))\n",
    "    out = I0(L)\n",
    "    for l in range(0,L):\n",
    "        out = Mdot([H(l,L),out])\n",
    "        for ll in range(l+1,L):\n",
    "            k = (ll-l)+1\n",
    "            out = Mdot([CROT(k,l,ll,L),out])\n",
    "    for l in range(0,int(L/2)):\n",
    "        out = Mdot([SWAP(l,L-1-l,L),out])\n",
    "    return out\n",
    "\n",
    "def QFT_R(L):\n",
    "    return np.conjugate(np.transpose(QFT(3)))"
   ]
  },
  {
   "cell_type": "code",
   "execution_count": 225,
   "metadata": {},
   "outputs": [
    {
     "data": {
      "text/plain": [
       "array([ 3.53553391e-01+0.j        , -2.50000000e-01-0.25j      ,\n",
       "        2.16489014e-17+0.35355339j,  2.50000000e-01-0.25j      ,\n",
       "       -3.53553391e-01+0.j        ,  2.50000000e-01+0.25j      ,\n",
       "       -2.16489014e-17-0.35355339j, -2.50000000e-01+0.25j      ])"
      ]
     },
     "execution_count": 225,
     "metadata": {},
     "output_type": "execute_result"
    }
   ],
   "source": [
    "psi = qi.Statevector.from_label(\"101\").data\n",
    "\n",
    "Mdot([QFT(3),psi])"
   ]
  },
  {
   "cell_type": "code",
   "execution_count": null,
   "metadata": {},
   "outputs": [],
   "source": []
  }
 ],
 "metadata": {
  "kernelspec": {
   "display_name": "Python [conda env:qiskit20_new]",
   "language": "python",
   "name": "conda-env-qiskit20_new-py"
  },
  "language_info": {
   "codemirror_mode": {
    "name": "ipython",
    "version": 3
   },
   "file_extension": ".py",
   "mimetype": "text/x-python",
   "name": "python",
   "nbconvert_exporter": "python",
   "pygments_lexer": "ipython3",
   "version": "3.8.5"
  }
 },
 "nbformat": 4,
 "nbformat_minor": 4
}
