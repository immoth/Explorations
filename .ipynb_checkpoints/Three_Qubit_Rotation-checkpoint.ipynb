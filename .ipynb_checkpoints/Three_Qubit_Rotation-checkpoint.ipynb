{
 "cells": [
  {
   "cell_type": "markdown",
   "metadata": {},
   "source": [
    "# Three Qubit Rotation Coefficient function\n",
    "\n",
    "We will use the following two qubit gate set to generate a three qubit rotation:\n",
    "$$R_{ijk}^{zyx}(\\phi) = R_{ij}^{zx}(\\theta)R_{jk}^{zx}(\\theta)R_{ij}^{zx}(-\\theta-\\lambda)R_{jk}^zx(-\\theta+\\tau)$$\n",
    "Here I will write a function that returns $\\theta$, $\\lambda$, and $\\tau$ given $\\phi$ assuming that \n",
    "$$R_{ijk}^{zyx}(\\phi) = \\cos(\\phi)+i \\sin(\\phi) ZYX$$"
   ]
  },
  {
   "cell_type": "code",
   "execution_count": 1,
   "metadata": {},
   "outputs": [],
   "source": [
    "from qiskit import quantum_info as qi\n",
    "import numpy as np\n",
    "import pandas as pd"
   ]
  },
  {
   "cell_type": "markdown",
   "metadata": {},
   "source": [
    "From the mathematica file: C:\\Users\\jsten\\Documents\\Reaserch\\Quantum Gates\\Three_Site_Rotation\\Three_Site_Rotation2\n",
    "\n",
    "I generated the following set of $\\theta$, $\\lambda$, and $\\tau$ values that work together (i.e. these make the two qubit terms cancel).  From these we need to figure out what $\\phi$ values we get."
   ]
  },
  {
   "cell_type": "code",
   "execution_count": 46,
   "metadata": {},
   "outputs": [],
   "source": [
    "angles = []\n",
    "f = open(\"angles.txt\", \"r\")\n",
    "lines = f.readlines()\n",
    "for line in lines:\n",
    "    line = line.replace('{','')\n",
    "    line = line.replace('}','')\n",
    "    line = line.replace('\\n','')\n",
    "    line = line.replace('*^', 'e')\n",
    "    angle_l = line.split(',')\n",
    "    angle_n = [float(angle_l[i]) for i in range(0,3)]\n",
    "    angles.append(angle_n)\n",
    "f.close()\n",
    "angles = np.array(angles)"
   ]
  },
  {
   "cell_type": "markdown",
   "metadata": {},
   "source": [
    "The result of the two qubit get set can be writen in terms of coefficients for each type of operator:\n",
    "$$ R_{ij}^{zx}(\\theta)R_{jk}^{zx}(\\theta)R_{ij}^{zx}(-\\theta-\\lambda)R_{jk}^zx(-\\theta+\\tau) = a(\\theta,\\lambda,\\tau)+i b(\\theta,\\lambda,\\tau) Z_i X_j + i c(\\theta,\\lambda,\\tau) Z_j X_k + i d(\\theta,\\lambda,\\tau) Z_i Y_j X_k $$\n",
    "\n",
    "these coeficients are defined below."
   ]
  },
  {
   "cell_type": "code",
   "execution_count": 74,
   "metadata": {},
   "outputs": [],
   "source": [
    "def a(angle):\n",
    "    h = angle[0]\n",
    "    l = angle[1]\n",
    "    t = angle[2]\n",
    "    a1 = np.cos(-h+t)*np.cos(-h-l)*np.cos(h)*np.cos(h)\n",
    "    a2 = np.sin(-h+t)*np.cos(-h-l)*np.sin(h)*np.cos(h)\n",
    "    a3 = np.sin(-h+t)*np.sin(-h-l)*np.sin(h)*np.sin(h)\n",
    "    a4 = np.cos(-h+t)*np.sin(-h-l)*np.cos(h)*np.sin(h)\n",
    "    return a1 - a2 - a3 - a4\n",
    "\n",
    "def b(angle):\n",
    "    h = angle[0]\n",
    "    l = angle[1]\n",
    "    t = angle[2]\n",
    "    b1 = np.cos(-h+t)*np.cos(-h-l)*np.cos(h)*np.sin(h)\n",
    "    b2 = np.sin(-h+t)*np.cos(-h-l)*np.sin(h)*np.sin(h)\n",
    "    b3 = np.cos(-h+t)*np.sin(-h-l)*np.cos(h)*np.cos(h)\n",
    "    b4 = np.sin(-h+t)*np.sin(-h-l)*np.sin(h)*np.cos(h)\n",
    "    return b1 - b2 + b3 + b4\n",
    "\n",
    "def c(angle):\n",
    "    h = angle[0]\n",
    "    l = angle[1]\n",
    "    t = angle[2]\n",
    "    b1 = np.cos(-h+t)*np.cos(-h-l)*np.sin(h)*np.cos(h)\n",
    "    b2 = np.sin(-h+t)*np.cos(-h-l)*np.cos(h)*np.cos(h)\n",
    "    b3 = np.cos(-h+t)*np.sin(-h-l)*np.sin(h)*np.sin(h)\n",
    "    b4 = np.sin(-h+t)*np.sin(-h-l)*np.cos(h)*np.sin(h)\n",
    "    return b1 + b2 + b3 - b4\n",
    "\n",
    "def d(angle):\n",
    "    h = angle[0]\n",
    "    l = angle[1]\n",
    "    t = angle[2]\n",
    "    b1 = np.cos(-h+t)*np.cos(-h-l)*np.sin(h)*np.sin(h)\n",
    "    b2 = np.sin(-h+t)*np.cos(-h-l)*np.cos(h)*np.sin(h)\n",
    "    b3 = np.cos(-h+t)*np.sin(-h-l)*np.sin(h)*np.cos(h)\n",
    "    b4 = np.sin(-h+t)*np.sin(-h-l)*np.cos(h)*np.cos(h)\n",
    "    return b1 + b2 - b3 + b4\n",
    "\n"
   ]
  },
  {
   "cell_type": "code",
   "execution_count": 75,
   "metadata": {},
   "outputs": [
    {
     "name": "stdout",
     "output_type": "stream",
     "text": [
      "0.9828383769113072\n",
      "1.5265566588595902e-16\n",
      "1.700029006457271e-16\n",
      "0.18446876394215644\n",
      "0.9999999999999997\n"
     ]
    }
   ],
   "source": [
    "print(a(angles[30]))\n",
    "print(b(angles[30]))\n",
    "print(c(angles[30]))\n",
    "print(d(angles[30]))\n",
    "print(a(angles[30])**2 + d(angles[30])**2 )"
   ]
  },
  {
   "cell_type": "code",
   "execution_count": null,
   "metadata": {},
   "outputs": [],
   "source": []
  }
 ],
 "metadata": {
  "kernelspec": {
   "display_name": "Python [conda env:qiskit20_new]",
   "language": "python",
   "name": "conda-env-qiskit20_new-py"
  },
  "language_info": {
   "codemirror_mode": {
    "name": "ipython",
    "version": 3
   },
   "file_extension": ".py",
   "mimetype": "text/x-python",
   "name": "python",
   "nbconvert_exporter": "python",
   "pygments_lexer": "ipython3",
   "version": "3.8.5"
  }
 },
 "nbformat": 4,
 "nbformat_minor": 4
}
