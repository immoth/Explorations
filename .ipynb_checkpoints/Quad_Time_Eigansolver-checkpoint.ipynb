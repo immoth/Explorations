{
 "cells": [
  {
   "cell_type": "markdown",
   "metadata": {},
   "source": [
    "# Quad-Time eigansolver\n",
    "\n",
    "The idea is to seperate time evolution into four peices and then add the appropriate phase to each piece so that when they are recombined it becomes imaginary time evolution.\n",
    "\n",
    "We will use $X_n C^x_{nm}$ to access the four states.  Notice that,\n",
    "$$X_n C^x_{nm}|00> = |10>$$\n",
    "$$X_n C^x_{nm}|10> = |11>$$\n",
    "$$X_n C^x_{nm}|11> = |00>$$\n",
    "\n",
    "Instead of normal time evolution we will apply $U_i = 1-i dt H \\otimes X_n C^x_{nm}$ on a state $|\\psi>\\otimes|00>$ where $|\\psi>$ is an arbitarary state in the Hilbart space of H.\n",
    "\n",
    "Notice:\n",
    "$$(U_i)^{tua}|\\psi;00;0> \\approx (1+\\frac{1}{4!}(t H)^4+...)|\\psi;00;0> - i (t H + \\frac{1}{5!}(t H)^5+...)|\\psi;10;0> - ( \\frac{1}{2}(t H)^2+\\frac{1}{6!}(t H)^6+...)|\\psi;01;0> +i ( \\frac{1}{3!}(t H)^3+\\frac{1}{7!}(t H)^7+...)|\\psi;11;0> $$\n",
    "where $t=\\tau dt$\n",
    "\n",
    "Now we can apply the following operator:\n",
    "$$\\hat{J} = \\frac{1}{\\sqrt{4}}(|00;1><00;0|-i|00;1><10;0|-|00;1><01;0|+i|00;1><11;0| + h.c.)$$\n",
    "and we have\n",
    "$$\\hat{J}(U_i)^{tua}|\\psi;00;0> \\approx (1-t H+\\frac{1}{2}(t H)^2-\\frac{1}{3!}(t H)^3+\\frac{1}{4!}(t H)^4+...)|\\psi;00;1> = e^{-H}|\\psi;00;1>$$\n"
   ]
  },
  {
   "cell_type": "code",
   "execution_count": null,
   "metadata": {},
   "outputs": [],
   "source": []
  }
 ],
 "metadata": {
  "kernelspec": {
   "display_name": "Python [conda env:qiskit20_new]",
   "language": "python",
   "name": "conda-env-qiskit20_new-py"
  },
  "language_info": {
   "codemirror_mode": {
    "name": "ipython",
    "version": 3
   },
   "file_extension": ".py",
   "mimetype": "text/x-python",
   "name": "python",
   "nbconvert_exporter": "python",
   "pygments_lexer": "ipython3",
   "version": "3.8.5"
  }
 },
 "nbformat": 4,
 "nbformat_minor": 4
}
