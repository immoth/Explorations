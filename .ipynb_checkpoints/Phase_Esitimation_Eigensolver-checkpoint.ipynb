{
 "cells": [
  {
   "cell_type": "markdown",
   "metadata": {},
   "source": [
    "# Phase Esitimation Eigensolver"
   ]
  },
  {
   "cell_type": "code",
   "execution_count": 1,
   "metadata": {},
   "outputs": [],
   "source": [
    "import qiskit.quantum_info as qi\n",
    "import numpy as np\n",
    "import pandas as pd"
   ]
  },
  {
   "cell_type": "code",
   "execution_count": 2,
   "metadata": {},
   "outputs": [],
   "source": [
    "def I0(L):\n",
    "    label = \"\"\n",
    "    for i in range(0,L):\n",
    "        label += \"I\"\n",
    "    return qi.Operator.from_label(label).data\n",
    "\n",
    "def X(l,L):\n",
    "    label = \"\"\n",
    "    for i in range(0,l):\n",
    "        label += \"I\"\n",
    "    label += \"X\"\n",
    "    for i in range(l+1,L):\n",
    "        label += \"I\"\n",
    "    return qi.Operator.from_label(label).data\n",
    "\n",
    "def Y(l,L):\n",
    "    label = \"\"\n",
    "    for i in range(0,l):\n",
    "        label += \"I\"\n",
    "    label += \"Y\"\n",
    "    for i in range(l+1,L):\n",
    "        label += \"I\"\n",
    "    return qi.Operator.from_label(label).data\n",
    "\n",
    "def Z(l,L):\n",
    "    label = \"\"\n",
    "    for i in range(0,l):\n",
    "        label += \"I\"\n",
    "    label += \"Z\"\n",
    "    for i in range(l+1,L):\n",
    "        label += \"I\"\n",
    "    return qi.Operator.from_label(label).data\n",
    "\n",
    "def Mdot(Ol):\n",
    "    m = Ol[0]\n",
    "    for i in range(1,len(Ol)):\n",
    "        m = np.dot(Ol[i],m)\n",
    "    return m"
   ]
  },
  {
   "cell_type": "markdown",
   "metadata": {},
   "source": [
    "## Quantum fourier transform"
   ]
  },
  {
   "cell_type": "code",
   "execution_count": 3,
   "metadata": {},
   "outputs": [],
   "source": [
    "def H(l,L):\n",
    "    return 1/np.sqrt(2)*(X(l,L)+Z(l,L))\n",
    "\n",
    "def SWAP(l,ll,L):\n",
    "    return 1/2*(Mdot([X(l,L),X(ll,L)])+Mdot([Y(l,L),Y(ll,L)])+I0(L)+Mdot([Z(l,L),Z(ll,L)]))\n",
    "\n",
    "def CROT(k,l,ll,L):\n",
    "    return I0(L)-1/4*Mdot([(I0(L)-Z(l,L)),(I0(L)-Z(ll,L))])+np.exp(1j*2*np.pi/(2**k))*1/4*Mdot([(I0(L)-Z(l,L)),(I0(L)-Z(ll,L))])"
   ]
  },
  {
   "cell_type": "code",
   "execution_count": 244,
   "metadata": {},
   "outputs": [],
   "source": [
    "def apply_QFT(psi):\n",
    "    check = []\n",
    "    L = int(np.log2(len(psi)))\n",
    "    psi_f = psi\n",
    "    check.append(\"psi\")\n",
    "    for l in range(0,L):\n",
    "        psi_f = Mdot([H(l,L),psi_f])\n",
    "        check.append(\"H\"+str(l))\n",
    "        for ll in range(l+1,L):\n",
    "            k = (ll-l)+1\n",
    "            psi_f = Mdot([CROT(k,l,ll,L),psi_f])\n",
    "            check.append(\"C\"+str(k)+str(l)+str(ll))\n",
    "    for l in range(0,int(L/2)):\n",
    "        psi_f = Mdot([SWAP(l,L-1-l,L),psi_f])\n",
    "        check.append(\"S\"+str(l)+str(L-1-l))\n",
    "    print(check)\n",
    "    return psi_f\n",
    "\n",
    "def QFT(L):\n",
    "    out = I0(L)\n",
    "    for l in range(0,L):\n",
    "        out = Mdot([H(l,L),out])\n",
    "        for ll in range(l+1,L):\n",
    "            k = (ll-l)+1\n",
    "            out = Mdot([CROT(k,l,ll,L),out])\n",
    "    for l in range(0,int(L/2)):\n",
    "        out = Mdot([SWAP(l,L-1-l,L),out])\n",
    "    return out\n",
    "\n",
    "def QFT_R(L):\n",
    "    return np.conjugate(np.transpose(QFT(L)))"
   ]
  },
  {
   "cell_type": "code",
   "execution_count": 226,
   "metadata": {},
   "outputs": [
    {
     "data": {
      "text/plain": [
       "array([ 3.53553391e-01+0.j        , -2.50000000e-01-0.25j      ,\n",
       "        2.16489014e-17+0.35355339j,  2.50000000e-01-0.25j      ,\n",
       "       -3.53553391e-01+0.j        ,  2.50000000e-01+0.25j      ,\n",
       "       -2.16489014e-17-0.35355339j, -2.50000000e-01+0.25j      ])"
      ]
     },
     "execution_count": 226,
     "metadata": {},
     "output_type": "execute_result"
    }
   ],
   "source": [
    "psi = qi.Statevector.from_label(\"101\").data\n",
    "\n",
    "Mdot([QFT(3),psi])"
   ]
  },
  {
   "cell_type": "markdown",
   "metadata": {},
   "source": [
    "## Quantum Phase Estimation"
   ]
  },
  {
   "cell_type": "markdown",
   "metadata": {},
   "source": [
    "Here we will do quantum phase exitmation on a unitary whose eigenstate we already know.  In the next section we will find the eigenstate."
   ]
  },
  {
   "cell_type": "code",
   "execution_count": 235,
   "metadata": {},
   "outputs": [
    {
     "data": {
      "text/plain": [
       "2.2206508537722626e-16"
      ]
     },
     "execution_count": 235,
     "metadata": {},
     "output_type": "execute_result"
    }
   ],
   "source": [
    "import scipy.linalg as lng\n",
    "\n",
    "\n",
    "U1 = np.cos(0.31)*I0(2)-1j*np.sin(0.31)*Mdot([Z(0,2)])\n",
    "U2 = np.cos(1.37)*I0(2)-1j*np.sin(1.37)*Mdot([Z(1,2)])\n",
    "Uxx = np.cos(0.31)*I0(2)-1j*np.sin(0.31)*Mdot([X(0,2),X(1,2)])\n",
    "U = Mdot([U1,U2,Uxx])\n",
    "\n",
    "np.amax(np.abs(Mdot([np.conjugate(np.transpose(U)),U])-I0(2)))"
   ]
  },
  {
   "cell_type": "code",
   "execution_count": 236,
   "metadata": {},
   "outputs": [
    {
     "data": {
      "text/plain": [
       "array([-1.38777878e-17+2.22044605e-16j,  0.00000000e+00+0.00000000e+00j,\n",
       "        0.00000000e+00+0.00000000e+00j,  5.55111512e-17+3.46944695e-18j])"
      ]
     },
     "execution_count": 236,
     "metadata": {},
     "output_type": "execute_result"
    }
   ],
   "source": [
    "(e,y) = lng.eig(U)\n",
    "psi = np.conjugate(np.transpose(y))\n",
    "Mdot([U,psi[0]])-e[0]*psi[0]"
   ]
  },
  {
   "cell_type": "code",
   "execution_count": 337,
   "metadata": {},
   "outputs": [],
   "source": [
    "#initialize\n",
    "p = 4\n",
    "L = int(np.log2(len(psi)))\n",
    "ancilla = np.array([0 for i in range(0,2**p)])\n",
    "ancilla[0] = 1;\n",
    "psi0 = np.kron(ancilla,psi[2])\n",
    "\n",
    "#apply Hardamard gates\n",
    "psi1 = psi0\n",
    "for i in range(0,p):\n",
    "    psi1 = Mdot([H(i,p+L),psi1]) \n",
    "    \n",
    "#apply controlled unitaries\n",
    "IU = np.kron(I0(p),U)\n",
    "def CU(a):\n",
    "    return 1/2*(I0(p+L)+Z(a,p+L)+IU-Mdot([IU,Z(a,p+L)]))\n",
    "\n",
    "psi2 = psi1\n",
    "for i in range(0,p):\n",
    "    for n in range(0,2**(p-i-1)):\n",
    "        psi2 = Mdot([CU(i),psi2])\n",
    "        \n",
    "#apply inverse QFT\n",
    "QI = np.kron(QFT_R(p),I0(L))\n",
    "psi3 = Mdot([QI,psi2])"
   ]
  },
  {
   "cell_type": "code",
   "execution_count": 338,
   "metadata": {},
   "outputs": [
    {
     "data": {
      "text/plain": [
       "array([ 2.06193626e-19-5.52552649e-20j, -2.31407465e-02+7.61796989e-02j,\n",
       "       -9.80415577e-03-1.02106266e-02j, -1.10013721e-19+3.05417579e-20j,\n",
       "        1.84905149e-19-1.87042391e-20j, -5.71035538e-02+1.06734816e-01j,\n",
       "       -1.15912583e-02-1.81341111e-02j, -1.39863248e-19-1.87826088e-21j,\n",
       "        1.71815049e-19+6.15199294e-21j, -1.74152130e-01+2.12039214e-01j,\n",
       "       -1.77502839e-02-4.54414114e-02j, -1.85840116e-19-5.35127716e-20j,\n",
       "        1.71070561e-19+1.63527908e-20j,  6.95256261e-01-5.70136269e-01j,\n",
       "        2.79974624e-02+1.57390581e-01j, -2.90383012e-19-1.73421887e-19j,\n",
       "        2.91486729e-19-1.03801037e-19j,  1.51405630e-01-8.08534031e-02j,\n",
       "       -6.19630484e-04+3.05108453e-02j, -1.12600034e-18-1.14275625e-18j,\n",
       "        4.12869253e-20+1.73353326e-19j,  9.27727064e-02-2.81034688e-02j,\n",
       "       -3.70485965e-03+1.68318506e-02j,  2.91251283e-19+5.05249433e-19j,\n",
       "        5.92145551e-20+1.64166208e-19j,  6.90663540e-02-6.77571556e-03j,\n",
       "       -4.95227364e-03+1.13011854e-02j,  6.59097937e-20+2.45102297e-19j,\n",
       "        4.71798469e-20+1.89183320e-19j,  5.54416091e-02+5.48197772e-03j,\n",
       "       -5.66919952e-03+8.12254791e-03j, -1.47258100e-21+1.68811869e-19j,\n",
       "        2.22746207e-20+2.32216781e-19j,  4.60025360e-02+1.39739726e-02j,\n",
       "       -6.16587786e-03+5.92042284e-03j, -3.95565044e-20+1.27253864e-19j,\n",
       "       -2.14738138e-20+3.04702857e-19j,  3.85878813e-02+2.06446710e-02j,\n",
       "       -6.55603253e-03+4.19059229e-03j, -7.04218153e-20+9.56043847e-20j,\n",
       "       -1.13220371e-19+4.54312468e-19j,  3.21681005e-02+2.64203170e-02j,\n",
       "       -6.89383753e-03+2.69286472e-03j, -1.07267514e-19+6.12296949e-20j,\n",
       "       -4.46089094e-19+9.93432716e-19j,  2.61244251e-02+3.18575945e-02j,\n",
       "       -7.21185209e-03+1.28288209e-03j, -1.98223029e-19-1.44544275e-20j,\n",
       "        1.70898187e-18-2.48893798e-18j,  1.99695669e-02+3.73948993e-02j,\n",
       "       -7.53571703e-03-1.53039352e-04j,  2.97597528e-19+3.68761896e-19j,\n",
       "        4.50478697e-19-4.53791089e-19j,  1.31787070e-02+4.35043918e-02j,\n",
       "       -7.89304799e-03-1.73733927e-03j, -9.77194524e-21+1.24519499e-19j,\n",
       "        3.00108025e-19-2.09719163e-19j,  4.99065928e-03+5.08708841e-02j,\n",
       "       -8.32389813e-03-3.64760153e-03j, -5.69948029e-20+8.32899265e-20j,\n",
       "        2.39691178e-19-1.10889517e-19j, -6.00848654e-03+6.07664203e-02j,\n",
       "       -8.90266656e-03-6.21368979e-03j, -8.48413487e-20+5.65417473e-20j])"
      ]
     },
     "execution_count": 338,
     "metadata": {},
     "output_type": "execute_result"
    }
   ],
   "source": [
    "psi3"
   ]
  },
  {
   "cell_type": "code",
   "execution_count": 339,
   "metadata": {},
   "outputs": [],
   "source": [
    "Pl = []\n",
    "xl = []\n",
    "for x in range(0,2**p):\n",
    "    px = 0\n",
    "    for i in range(0,2**L):\n",
    "        px += np.abs(psi3[2**L*x+i])**2\n",
    "    Pl.append(px)\n",
    "    xl.append(x)"
   ]
  },
  {
   "cell_type": "code",
   "execution_count": 340,
   "metadata": {},
   "outputs": [
    {
     "data": {
      "text/plain": [
       "[<matplotlib.lines.Line2D at 0x1acdaea08e0>]"
      ]
     },
     "execution_count": 340,
     "metadata": {},
     "output_type": "execute_result"
    },
    {
     "data": {
      "image/png": "[encoded data removed]",
      "text/plain": [
       "<Figure size 432x288 with 1 Axes>"
      ]
     },
     "metadata": {
      "needs_background": "light"
     },
     "output_type": "display_data"
    }
   ],
   "source": [
    "import matplotlib.pyplot as plt\n",
    "\n",
    "plt.plot(xl,Pl)"
   ]
  },
  {
   "cell_type": "code",
   "execution_count": 344,
   "metadata": {},
   "outputs": [
    {
     "name": "stdout",
     "output_type": "stream",
     "text": [
      "0.1875\n",
      "(0.38268343236508984+0.9238795325112867j)\n"
     ]
    },
    {
     "data": {
      "text/plain": [
       "array([-0.10379174-0.99459905j, -0.10379174+0.99459905j,\n",
       "        0.46556929+0.88501143j,  0.46556929-0.88501143j])"
      ]
     },
     "execution_count": 344,
     "metadata": {},
     "output_type": "execute_result"
    }
   ],
   "source": [
    "theta = 3/(2**p)\n",
    "print(theta)\n",
    "print(np.exp(2*np.pi*1j*theta))\n",
    "e"
   ]
  },
  {
   "cell_type": "code",
   "execution_count": null,
   "metadata": {},
   "outputs": [],
   "source": []
  },
  {
   "cell_type": "code",
   "execution_count": null,
   "metadata": {},
   "outputs": [],
   "source": []
  },
  {
   "cell_type": "code",
   "execution_count": null,
   "metadata": {},
   "outputs": [],
   "source": []
  },
  {
   "cell_type": "code",
   "execution_count": null,
   "metadata": {},
   "outputs": [],
   "source": []
  },
  {
   "cell_type": "code",
   "execution_count": null,
   "metadata": {},
   "outputs": [],
   "source": []
  },
  {
   "cell_type": "code",
   "execution_count": null,
   "metadata": {},
   "outputs": [],
   "source": []
  },
  {
   "cell_type": "code",
   "execution_count": null,
   "metadata": {},
   "outputs": [],
   "source": []
  },
  {
   "cell_type": "code",
   "execution_count": 307,
   "metadata": {},
   "outputs": [
    {
     "name": "stdout",
     "output_type": "stream",
     "text": [
      "11100\n"
     ]
    },
    {
     "data": {
      "text/plain": [
       "array([0.+0.j, 0.+0.j, 0.+0.j, 0.+0.j, 0.+0.j, 0.+0.j, 0.+0.j, 0.+0.j,\n",
       "       0.+0.j, 0.+0.j, 0.+0.j, 0.+0.j, 0.+0.j, 0.+0.j, 0.+0.j, 0.+0.j,\n",
       "       0.+0.j, 0.+0.j, 0.+0.j, 0.+0.j, 0.+0.j, 0.+0.j, 0.+0.j, 0.+0.j,\n",
       "       0.+0.j, 0.+0.j, 0.+0.j, 0.+0.j, 1.+0.j, 0.+0.j, 0.+0.j, 0.+0.j])"
      ]
     },
     "execution_count": 307,
     "metadata": {},
     "output_type": "execute_result"
    }
   ],
   "source": [
    "def bx(x,p,L):\n",
    "    out = bin((2**L)*x)[2:]\n",
    "    Lb = len(out)\n",
    "    for i in range(Lb,p+L):\n",
    "        out = '0'+out\n",
    "    return out\n",
    "\n",
    "x = 7\n",
    "print(bx(x,p,L))\n",
    "qi.Statevector.from_label(bx(x,p,L)).data"
   ]
  },
  {
   "cell_type": "code",
   "execution_count": null,
   "metadata": {},
   "outputs": [],
   "source": []
  }
 ],
 "metadata": {
  "kernelspec": {
   "display_name": "Python [conda env:qiskit20_new]",
   "language": "python",
   "name": "conda-env-qiskit20_new-py"
  },
  "language_info": {
   "codemirror_mode": {
    "name": "ipython",
    "version": 3
   },
   "file_extension": ".py",
   "mimetype": "text/x-python",
   "name": "python",
   "nbconvert_exporter": "python",
   "pygments_lexer": "ipython3",
   "version": "3.8.5"
  }
 },
 "nbformat": 4,
 "nbformat_minor": 4
}
