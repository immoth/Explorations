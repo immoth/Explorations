{
 "cells": [
  {
   "cell_type": "code",
   "execution_count": null,
   "metadata": {},
   "outputs": [],
   "source": []
  },
  {
   "cell_type": "code",
   "execution_count": 35,
   "metadata": {},
   "outputs": [],
   "source": [
    "from qiskit import quantum_info as qi\n",
    "import numpy as np\n",
    "import pandas as pd\n",
    "import scipy.linalg as lng\n",
    "pd.options.display.float_format = '{:,.1f}'.format"
   ]
  },
  {
   "cell_type": "code",
   "execution_count": 36,
   "metadata": {},
   "outputs": [],
   "source": [
    "def bkt(psi_a,psi_b):\n",
    "    return np.dot(np.conjugate(psi_a),psi_b)\n",
    "\n",
    "def exv(psi_a,O,psi_b):\n",
    "    return np.dot(np.conjugate(psi_a),np.dot(O,psi_b))"
   ]
  },
  {
   "cell_type": "code",
   "execution_count": 37,
   "metadata": {},
   "outputs": [],
   "source": [
    "def I0(L):\n",
    "    label = \"\"\n",
    "    for i in range(0,L):\n",
    "        label += \"I\"\n",
    "    return qi.Operator.from_label(label).data\n",
    "\n",
    "def Sx(l,L):\n",
    "    label = \"\"\n",
    "    for i in range(0,l):\n",
    "        label += \"I\"\n",
    "    label += \"X\"\n",
    "    for i in range(l+1,L):\n",
    "        label += \"I\"\n",
    "    return qi.Operator.from_label(label).data\n",
    "\n",
    "def Sy(l,L):\n",
    "    label = \"\"\n",
    "    for i in range(0,l):\n",
    "        label += \"I\"\n",
    "    label += \"Y\"\n",
    "    for i in range(l+1,L):\n",
    "        label += \"I\"\n",
    "    return qi.Operator.from_label(label).data\n",
    "\n",
    "def Sz(l,L):\n",
    "    label = \"\"\n",
    "    for i in range(0,l):\n",
    "        label += \"I\"\n",
    "    label += \"Z\"\n",
    "    for i in range(l+1,L):\n",
    "        label += \"I\"\n",
    "    return qi.Operator.from_label(label).data\n",
    "    \n",
    "def Sp(l,L):\n",
    "    return Sx(0,L)+Sy(0,L)\n",
    "\n",
    "def Sm(l,L):\n",
    "    return Sx(0,L)-Sy(0,L)"
   ]
  },
  {
   "cell_type": "code",
   "execution_count": 38,
   "metadata": {},
   "outputs": [],
   "source": [
    "def H(Jx,Jy,Jz,L):\n",
    "    h=0\n",
    "    for i in range(0,L-1):\n",
    "        h+= Jx*np.dot(Sz(i,L),Sz(i+1,L))\n",
    "        h+= Jy*np.dot(Sx(i,L),Sx(i+1,L))\n",
    "        h+= Jz*np.dot(Sy(i,L),Sy(i+1,L))\n",
    "    h+= Jx*np.dot(Sz(L-1,L),Sz(0,L))\n",
    "    h+= Jy*np.dot(Sx(L-1,L),Sx(0,L))\n",
    "    h+= Jz*np.dot(Sy(L-1,L),Sy(0,L))\n",
    "    return h\n",
    "        "
   ]
  },
  {
   "cell_type": "code",
   "execution_count": 59,
   "metadata": {},
   "outputs": [
    {
     "data": {
      "text/plain": [
       "array([[-0.        -0.j,  0.70710678+0.j,  0.70710678-0.j,\n",
       "        -0.        -0.j],\n",
       "       [ 0.        +0.j,  0.70710678+0.j, -0.70710678+0.j,\n",
       "         0.        +0.j],\n",
       "       [ 1.        +0.j,  0.        +0.j,  0.        +0.j,\n",
       "         0.        +0.j],\n",
       "       [ 0.        +0.j,  0.        +0.j,  0.        +0.j,\n",
       "         1.        +0.j]])"
      ]
     },
     "execution_count": 59,
     "metadata": {},
     "output_type": "execute_result"
    }
   ],
   "source": [
    "H1 = H(1,1,1,2)\n",
    "(e,U) = lng.eig(H1)\n",
    "psi = np.transpose(U)\n",
    "exv(psi[1],H1,psi[1])\n",
    "psi"
   ]
  },
  {
   "cell_type": "code",
   "execution_count": 112,
   "metadata": {},
   "outputs": [],
   "source": [
    "def Imaginary_Time_Solver(H,dt,n):\n",
    "    L = int(np.log2(len(H)))\n",
    "    Ui = I0(L) - H*dt\n",
    "    psi_0 = np.array([0.1,0.2,0.3,0.4])\n",
    "    psi_0 = psi_0/np.sqrt(np.dot(psi_0,psi_0))\n",
    "    for i in range(0,n):\n",
    "        psi_0 = np.dot(Ui,psi_0)\n",
    "        psi_0 = psi_0/np.sqrt(np.dot(psi_0,psi_0))\n",
    "    return psi_0"
   ]
  },
  {
   "cell_type": "code",
   "execution_count": 127,
   "metadata": {},
   "outputs": [
    {
     "data": {
      "text/plain": [
       "array([ 0.        +0.j, -0.70710678+0.j,  0.70710678+0.j,  0.        +0.j])"
      ]
     },
     "execution_count": 127,
     "metadata": {},
     "output_type": "execute_result"
    }
   ],
   "source": [
    "Imaginary_Time_Solver(H1,0.5,5)"
   ]
  },
  {
   "cell_type": "code",
   "execution_count": null,
   "metadata": {},
   "outputs": [],
   "source": []
  }
 ],
 "metadata": {
  "kernelspec": {
   "display_name": "Python [conda env:qiskit20_new]",
   "language": "python",
   "name": "conda-env-qiskit20_new-py"
  },
  "language_info": {
   "codemirror_mode": {
    "name": "ipython",
    "version": 3
   },
   "file_extension": ".py",
   "mimetype": "text/x-python",
   "name": "python",
   "nbconvert_exporter": "python",
   "pygments_lexer": "ipython3",
   "version": "3.8.5"
  }
 },
 "nbformat": 4,
 "nbformat_minor": 4
}
