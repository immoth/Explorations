{
 "cells": [
  {
   "cell_type": "code",
   "execution_count": 162,
   "metadata": {},
   "outputs": [],
   "source": [
    "from qiskit import quantum_info as qi\n",
    "import numpy as np\n",
    "import pandas as pd\n",
    "import numpy.linalg as lng\n",
    "import random as rnd\n",
    "pd.options.display.float_format = '{:,.1f}'.format"
   ]
  },
  {
   "cell_type": "code",
   "execution_count": 136,
   "metadata": {},
   "outputs": [],
   "source": [
    "def I0(L):\n",
    "    label = \"\"\n",
    "    for i in range(0,L):\n",
    "        label += \"I\"\n",
    "    return qi.Operator.from_label(label).data\n",
    "\n",
    "def X(l,L):\n",
    "    label = \"\"\n",
    "    for i in range(0,l):\n",
    "        label += \"I\"\n",
    "    label += \"X\"\n",
    "    for i in range(l+1,L):\n",
    "        label += \"I\"\n",
    "    return qi.Operator.from_label(label).data\n",
    "\n",
    "def Y(l,L):\n",
    "    label = \"\"\n",
    "    for i in range(0,l):\n",
    "        label += \"I\"\n",
    "    label += \"Y\"\n",
    "    for i in range(l+1,L):\n",
    "        label += \"I\"\n",
    "    return qi.Operator.from_label(label).data\n",
    "\n",
    "def Z(l,L):\n",
    "    label = \"\"\n",
    "    for i in range(0,l):\n",
    "        label += \"I\"\n",
    "    label += \"Z\"\n",
    "    for i in range(l+1,L):\n",
    "        label += \"I\"\n",
    "    return qi.Operator.from_label(label).data\n",
    "    \n",
    "def gx(l,L):\n",
    "    label = \"\"\n",
    "    for i in range(0,l):\n",
    "        label += \"Z\"\n",
    "    label += \"X\"\n",
    "    for i in range(l+1,L):\n",
    "        label += \"I\"\n",
    "    return qi.Operator.from_label(label).data\n",
    "\n",
    "def gy(l,L):\n",
    "    label = \"\"\n",
    "    for i in range(0,l):\n",
    "        label += \"Z\"\n",
    "    label += \"Y\"\n",
    "    for i in range(l+1,L):\n",
    "        label += \"I\"\n",
    "    return qi.Operator.from_label(label).data\n",
    "\n",
    "def cd(l,L):\n",
    "    return 1/2*(gx(l,L)+1j*gy(l,L))\n",
    "\n",
    "def c(l,L):\n",
    "    return 1/2*(gx(l,L)-1j*gy(l,L))"
   ]
  },
  {
   "cell_type": "code",
   "execution_count": 137,
   "metadata": {},
   "outputs": [],
   "source": [
    "def bkt(psi_a,U,psi_b):\n",
    "    return np.dot(np.conjugate(psi_a),np.dot(U,psi_b))\n",
    "\n",
    "def Mdot(Ol):\n",
    "    m = Ol[0]\n",
    "    for i in range(1,len(Ol)):\n",
    "        m = np.dot(Ol[i],m)\n",
    "    return m"
   ]
  },
  {
   "cell_type": "code",
   "execution_count": 138,
   "metadata": {},
   "outputs": [],
   "source": [
    "mu = 0.3\n",
    "t = -0.7\n",
    "\n",
    "H0 = mu*(Mdot([cd(0,2),c(0,2)]) + Mdot([cd(1,2),c(1,2)])) + t*(Mdot([cd(0,2),c(1,2)]) + Mdot([cd(1,2),c(0,2)]))"
   ]
  },
  {
   "cell_type": "code",
   "execution_count": 139,
   "metadata": {},
   "outputs": [
    {
     "name": "stdout",
     "output_type": "stream",
     "text": [
      "         0         1         2        3\n",
      "0 0.0+0.0j  0.0+0.0j  0.0+0.0j 0.0+0.0j\n",
      "1 0.0+0.0j  0.3+0.0j -0.7+0.0j 0.0+0.0j\n",
      "2 0.0+0.0j -0.7+0.0j  0.3+0.0j 0.0+0.0j\n",
      "3 0.0+0.0j  0.0+0.0j  0.0+0.0j 0.6+0.0j\n",
      "[ 1. +0.j -0.4+0.j  0. +0.j  0.6+0.j]\n"
     ]
    },
    {
     "data": {
      "text/plain": [
       "array([0.        -0.j, 0.70710678-0.j, 0.70710678-0.j, 0.        -0.j])"
      ]
     },
     "execution_count": 139,
     "metadata": {},
     "output_type": "execute_result"
    }
   ],
   "source": [
    "print(pd.DataFrame(H0))\n",
    "e0,y0 = lng.eig(H0)\n",
    "psi0 = np.conjugate(np.transpose(y0))\n",
    "print(e0)\n",
    "psi0[1]"
   ]
  },
  {
   "cell_type": "code",
   "execution_count": 140,
   "metadata": {},
   "outputs": [],
   "source": [
    "Hb = Z(2,3)\n",
    "Hx = Mdot([cd(0,3),X(2,3)])+Mdot([X(2,3),c(0,3)])+Mdot([cd(1,3),X(2,3)])+Mdot([X(2,3),c(1,3)])\n",
    "\n",
    "H = np.kron(H0,I0(1))+Hb+Hx"
   ]
  },
  {
   "cell_type": "code",
   "execution_count": 157,
   "metadata": {},
   "outputs": [
    {
     "data": {
      "text/plain": [
       "(-1.3877787807814457e-17-3.3306690738754696e-16j)"
      ]
     },
     "execution_count": 157,
     "metadata": {},
     "output_type": "execute_result"
    }
   ],
   "source": [
    "e,psi_d = lng.eig(H)\n",
    "psi = np.conjugate(np.transpose(psi_d))\n",
    "eD = np.diag(e)\n",
    "\n",
    "#print(np.amax(np.abs(Mdot([psi,eD,psi_d])-H)))\n",
    "\n",
    "def U(t):\n",
    "    exp = np.exp(1j*e*t)\n",
    "    expD = np.diag(exp)\n",
    "    return Mdot([psi,expD,psi_d])\n",
    "\n",
    "n=1;\n",
    "bkt(psi[n],U(0.8),psi[n])-np.exp(1j*e[n]*0.8)"
   ]
  },
  {
   "cell_type": "code",
   "execution_count": 436,
   "metadata": {},
   "outputs": [],
   "source": [
    "psiA = np.sqrt(0.7)*qi.Statevector.from_label('+-+').data + np.sqrt(0.3)*qi.Statevector.from_label('++1').data\n",
    "\n",
    "def measure(psi):\n",
    "    P = bkt(psi,Z(2,3),psi)\n",
    "    P0=(1+P)/2\n",
    "    P1=(1-P)/2\n",
    "    m = rnd.choices([1,-1],weights = [P0,P1])[0]\n",
    "    Project = np.kron(I0(2),1/2*(I0(1)+m*Z(0,1)))\n",
    "    psi = Mdot([Project,psi])\n",
    "    norm = np.sqrt(bkt(psi,I0(3),psi))\n",
    "    psi = psi/norm\n",
    "    return psi\n",
    "\n",
    "def reset(psi):\n",
    "    P = bkt(psi,Z(2,3),psi)\n",
    "    if np.abs(P - 1) < 10**(-5):\n",
    "        psi = Mdot([X(2,3),psi])\n",
    "    elif np.abs(P + 1) > 10**(-5) :\n",
    "        print(\"There is a normalization problem with the input to the 'reset' function\")\n",
    "        print(\"P = \", P)\n",
    "    return psi\n"
   ]
  },
  {
   "cell_type": "code",
   "execution_count": 454,
   "metadata": {},
   "outputs": [],
   "source": [
    "def step(psi,t):\n",
    "    psi = Mdot([U(t),psi])\n",
    "    psi = measure(psi)\n",
    "    psi = reset(psi)\n",
    "    return psi"
   ]
  },
  {
   "cell_type": "code",
   "execution_count": 455,
   "metadata": {},
   "outputs": [
    {
     "data": {
      "text/plain": [
       "array([ 0.        +0.j        ,  0.34710806+0.33203652j,\n",
       "        0.        +0.j        , -0.46080174-0.17423813j,\n",
       "        0.        +0.j        , -0.45996739-0.21397319j,\n",
       "        0.        +0.j        , -0.28719419-0.43212908j])"
      ]
     },
     "execution_count": 455,
     "metadata": {},
     "output_type": "execute_result"
    }
   ],
   "source": [
    "t = 0.01\n",
    "Ns = 1000\n",
    "psiS = psiA\n",
    "for s in range(0,Ns):\n",
    "    psiS = step(psiS,t)\n",
    "\n",
    "psiS"
   ]
  },
  {
   "cell_type": "code",
   "execution_count": 456,
   "metadata": {},
   "outputs": [
    {
     "data": {
      "text/plain": [
       "(-1.0373853521431964+0j)"
      ]
     },
     "execution_count": 456,
     "metadata": {},
     "output_type": "execute_result"
    }
   ],
   "source": [
    "bkt(psiS,H,psiS)"
   ]
  },
  {
   "cell_type": "code",
   "execution_count": 453,
   "metadata": {},
   "outputs": [
    {
     "data": {
      "text/plain": [
       "array([ 1.6547237 +0.j, -2.0547237 +0.j, -1.82480768+0.j,  1.42480768+0.j,\n",
       "       -1.0547237 +0.j, -0.82480768+0.j,  2.6547237 +0.j,  2.42480768+0.j])"
      ]
     },
     "execution_count": 453,
     "metadata": {},
     "output_type": "execute_result"
    }
   ],
   "source": [
    "e"
   ]
  },
  {
   "cell_type": "code",
   "execution_count": 457,
   "metadata": {},
   "outputs": [
    {
     "data": {
      "text/plain": [
       "'C:\\\\Users\\\\jsten\\\\IBMQ\\\\Explorations'"
      ]
     },
     "execution_count": 457,
     "metadata": {},
     "output_type": "execute_result"
    }
   ],
   "source": [
    "pwd"
   ]
  },
  {
   "cell_type": "code",
   "execution_count": null,
   "metadata": {},
   "outputs": [],
   "source": []
  }
 ],
 "metadata": {
  "kernelspec": {
   "display_name": "Python [conda env:new_qiskit]",
   "language": "python",
   "name": "conda-env-new_qiskit-py"
  },
  "language_info": {
   "codemirror_mode": {
    "name": "ipython",
    "version": 3
   },
   "file_extension": ".py",
   "mimetype": "text/x-python",
   "name": "python",
   "nbconvert_exporter": "python",
   "pygments_lexer": "ipython3",
   "version": "3.8.3"
  }
 },
 "nbformat": 4,
 "nbformat_minor": 4
}
