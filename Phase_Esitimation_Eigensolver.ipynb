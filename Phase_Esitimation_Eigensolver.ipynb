{
 "cells": [
  {
   "cell_type": "markdown",
   "metadata": {},
   "source": [
    "# Phase Esitimation Eigensolver"
   ]
  },
  {
   "cell_type": "code",
   "execution_count": 1,
   "metadata": {},
   "outputs": [],
   "source": [
    "import qiskit.quantum_info as qi\n",
    "import numpy as np\n",
    "import pandas as pd"
   ]
  },
  {
   "cell_type": "code",
   "execution_count": 2,
   "metadata": {},
   "outputs": [],
   "source": [
    "def I0(L):\n",
    "    label = \"\"\n",
    "    for i in range(0,L):\n",
    "        label += \"I\"\n",
    "    return qi.Operator.from_label(label).data\n",
    "\n",
    "def X(l,L):\n",
    "    label = \"\"\n",
    "    for i in range(0,l):\n",
    "        label += \"I\"\n",
    "    label += \"X\"\n",
    "    for i in range(l+1,L):\n",
    "        label += \"I\"\n",
    "    return qi.Operator.from_label(label).data\n",
    "\n",
    "def Y(l,L):\n",
    "    label = \"\"\n",
    "    for i in range(0,l):\n",
    "        label += \"I\"\n",
    "    label += \"Y\"\n",
    "    for i in range(l+1,L):\n",
    "        label += \"I\"\n",
    "    return qi.Operator.from_label(label).data\n",
    "\n",
    "def Z(l,L):\n",
    "    label = \"\"\n",
    "    for i in range(0,l):\n",
    "        label += \"I\"\n",
    "    label += \"Z\"\n",
    "    for i in range(l+1,L):\n",
    "        label += \"I\"\n",
    "    return qi.Operator.from_label(label).data\n",
    "\n",
    "def Mdot(Ol):\n",
    "    m = Ol[0]\n",
    "    for i in range(1,len(Ol)):\n",
    "        m = np.dot(Ol[i],m)\n",
    "    return m"
   ]
  },
  {
   "cell_type": "markdown",
   "metadata": {},
   "source": [
    "## Quantum fourier transform"
   ]
  },
  {
   "cell_type": "code",
   "execution_count": 3,
   "metadata": {},
   "outputs": [],
   "source": [
    "def H(l,L):\n",
    "    return 1/np.sqrt(2)*(X(l,L)+Z(l,L))\n",
    "\n",
    "def SWAP(l,ll,L):\n",
    "    return 1/2*(Mdot([X(l,L),X(ll,L)])+Mdot([Y(l,L),Y(ll,L)])+I0(L)+Mdot([Z(l,L),Z(ll,L)]))\n",
    "\n",
    "def CROT(k,l,ll,L):\n",
    "    return I0(L)-1/4*Mdot([(I0(L)-Z(l,L)),(I0(L)-Z(ll,L))])+np.exp(1j*2*np.pi/(2**k))*1/4*Mdot([(I0(L)-Z(l,L)),(I0(L)-Z(ll,L))])"
   ]
  },
  {
   "cell_type": "code",
   "execution_count": 244,
   "metadata": {},
   "outputs": [],
   "source": [
    "def apply_QFT(psi):\n",
    "    check = []\n",
    "    L = int(np.log2(len(psi)))\n",
    "    psi_f = psi\n",
    "    check.append(\"psi\")\n",
    "    for l in range(0,L):\n",
    "        psi_f = Mdot([H(l,L),psi_f])\n",
    "        check.append(\"H\"+str(l))\n",
    "        for ll in range(l+1,L):\n",
    "            k = (ll-l)+1\n",
    "            psi_f = Mdot([CROT(k,l,ll,L),psi_f])\n",
    "            check.append(\"C\"+str(k)+str(l)+str(ll))\n",
    "    for l in range(0,int(L/2)):\n",
    "        psi_f = Mdot([SWAP(l,L-1-l,L),psi_f])\n",
    "        check.append(\"S\"+str(l)+str(L-1-l))\n",
    "    print(check)\n",
    "    return psi_f\n",
    "\n",
    "def QFT(L):\n",
    "    out = I0(L)\n",
    "    for l in range(0,L):\n",
    "        out = Mdot([H(l,L),out])\n",
    "        for ll in range(l+1,L):\n",
    "            k = (ll-l)+1\n",
    "            out = Mdot([CROT(k,l,ll,L),out])\n",
    "    for l in range(0,int(L/2)):\n",
    "        out = Mdot([SWAP(l,L-1-l,L),out])\n",
    "    return out\n",
    "\n",
    "def QFT_R(L):\n",
    "    return np.conjugate(np.transpose(QFT(L)))"
   ]
  },
  {
   "cell_type": "code",
   "execution_count": 226,
   "metadata": {},
   "outputs": [
    {
     "data": {
      "text/plain": [
       "array([ 3.53553391e-01+0.j        , -2.50000000e-01-0.25j      ,\n",
       "        2.16489014e-17+0.35355339j,  2.50000000e-01-0.25j      ,\n",
       "       -3.53553391e-01+0.j        ,  2.50000000e-01+0.25j      ,\n",
       "       -2.16489014e-17-0.35355339j, -2.50000000e-01+0.25j      ])"
      ]
     },
     "execution_count": 226,
     "metadata": {},
     "output_type": "execute_result"
    }
   ],
   "source": [
    "psi = qi.Statevector.from_label(\"101\").data\n",
    "\n",
    "Mdot([QFT(3),psi])"
   ]
  },
  {
   "cell_type": "markdown",
   "metadata": {},
   "source": [
    "## Quantum Phase Estimation"
   ]
  },
  {
   "cell_type": "markdown",
   "metadata": {},
   "source": [
    "Here we will do quantum phase exitmation on a unitary whose eigenstate we already know.  In the next section we will find the eigenstate.\n",
    "\n",
    "First I define the trial unitary"
   ]
  },
  {
   "cell_type": "code",
   "execution_count": 366,
   "metadata": {},
   "outputs": [
    {
     "data": {
      "text/plain": [
       "2.2206508537722626e-16"
      ]
     },
     "execution_count": 366,
     "metadata": {},
     "output_type": "execute_result"
    }
   ],
   "source": [
    "import scipy.linalg as lng\n",
    "\n",
    "\n",
    "U1 = np.cos(0.31)*I0(2)-1j*np.sin(0.31)*Mdot([Z(0,2)])\n",
    "U2 = np.cos(1.37)*I0(2)-1j*np.sin(1.37)*Mdot([Z(1,2)])\n",
    "Uxx = np.cos(0.31)*I0(2)-1j*np.sin(0.31)*Mdot([X(0,2),X(1,2)])\n",
    "U = Mdot([U1,U2,Uxx])\n",
    "\n",
    "np.amax(np.abs(Mdot([np.conjugate(np.transpose(U)),U])-I0(2)))"
   ]
  },
  {
   "cell_type": "markdown",
   "metadata": {},
   "source": [
    "and find the eiganvectors which will be needed for the initialization"
   ]
  },
  {
   "cell_type": "code",
   "execution_count": 367,
   "metadata": {},
   "outputs": [
    {
     "data": {
      "text/plain": [
       "2.2247786310271853e-16"
      ]
     },
     "execution_count": 367,
     "metadata": {},
     "output_type": "execute_result"
    }
   ],
   "source": [
    "(e,y) = lng.eig(U)\n",
    "psi = np.conjugate(np.transpose(y))\n",
    "np.amax(np.abs(Mdot([U,psi[0]])-e[0]*psi[0]))"
   ]
  },
  {
   "cell_type": "markdown",
   "metadata": {},
   "source": [
    "Now we have everything we need for input.  Let's go ahead and define the phase estimation function."
   ]
  },
  {
   "cell_type": "code",
   "execution_count": 368,
   "metadata": {},
   "outputs": [],
   "source": [
    "def QPE(U,psi,p):\n",
    "    #initialize\n",
    "    L = int(np.log2(len(psi)))\n",
    "    ancilla = np.array([0 for i in range(0,2**p)])\n",
    "    ancilla[0] = 1;\n",
    "    psi0 = np.kron(ancilla,psi)\n",
    "\n",
    "    #apply Hardamard gates\n",
    "    psi1 = psi0\n",
    "    for i in range(0,p):\n",
    "        psi1 = Mdot([H(i,p+L),psi1]) \n",
    "\n",
    "    #apply controlled unitaries\n",
    "    IU = np.kron(I0(p),U)\n",
    "    def CU(a):\n",
    "        return 1/2*(I0(p+L)+Z(a,p+L)+IU-Mdot([IU,Z(a,p+L)]))\n",
    "\n",
    "    psi2 = psi1\n",
    "    for i in range(0,p):\n",
    "        for n in range(0,2**(p-i-1)):\n",
    "            psi2 = Mdot([CU(i),psi2])\n",
    "\n",
    "    #apply inverse QFT\n",
    "    QI = np.kron(QFT_R(p),I0(L))\n",
    "    psi3 = Mdot([QI,psi2])\n",
    "\n",
    "    #Measure the ancilla basis\n",
    "    Pl = []\n",
    "    xl = []\n",
    "    for x in range(0,2**p):\n",
    "        px = 0\n",
    "        for i in range(0,2**L):\n",
    "            px += np.abs(psi3[2**L*x+i])**2\n",
    "        Pl.append(px)\n",
    "        xl.append(x)\n",
    "\n",
    "    #Find the maximum and return the phase\n",
    "    xm = Pl.index(np.amax(Pl))\n",
    "    theta = xm/(2**p)\n",
    "    phase = np.exp(2*np.pi*1j*theta)\n",
    "    \n",
    "    return Pl, xl, theta, phase"
   ]
  },
  {
   "cell_type": "markdown",
   "metadata": {},
   "source": [
    "We can check that the phase is close to the eigenvalue (increasing p increases the persicion)"
   ]
  },
  {
   "cell_type": "code",
   "execution_count": 376,
   "metadata": {},
   "outputs": [
    {
     "name": "stdout",
     "output_type": "stream",
     "text": [
      "(0.4713967368259978+0.8819212643483549j)\n"
     ]
    },
    {
     "data": {
      "text/plain": [
       "array([-0.10379174-0.99459905j, -0.10379174+0.99459905j,\n",
       "        0.46556929+0.88501143j,  0.46556929-0.88501143j])"
      ]
     },
     "execution_count": 376,
     "metadata": {},
     "output_type": "execute_result"
    }
   ],
   "source": [
    "Pl, xl, theta, phase = QPE(U,psi[2],6)\n",
    "print(phase)\n",
    "e"
   ]
  },
  {
   "cell_type": "markdown",
   "metadata": {},
   "source": [
    "We can also look at the probability distribution"
   ]
  },
  {
   "cell_type": "code",
   "execution_count": 377,
   "metadata": {},
   "outputs": [
    {
     "data": {
      "text/plain": [
       "[<matplotlib.lines.Line2D at 0x1acdb1b9df0>]"
      ]
     },
     "execution_count": 377,
     "metadata": {},
     "output_type": "execute_result"
    },
    {
     "data": {
      "image/png": "[encoded data removed]",
      "text/plain": [
       "<Figure size 432x288 with 1 Axes>"
      ]
     },
     "metadata": {
      "needs_background": "light"
     },
     "output_type": "display_data"
    }
   ],
   "source": [
    "import matplotlib.pyplot as plt\n",
    "\n",
    "plt.plot(xl,Pl)"
   ]
  },
  {
   "cell_type": "markdown",
   "metadata": {},
   "source": [
    "I did not end up using the function below but it is helpful for understanding how the states represent binary numbers.  bx(x,p,L) takes a numberical number x and converts it into binary given that the first L qubits are not involved and the length of the binary string should be p.  Then we can build the state from the binary number using the quantum information package."
   ]
  },
  {
   "cell_type": "code",
   "execution_count": 378,
   "metadata": {},
   "outputs": [
    {
     "name": "stdout",
     "output_type": "stream",
     "text": [
      "011100\n"
     ]
    },
    {
     "data": {
      "text/plain": [
       "array([0.+0.j, 0.+0.j, 0.+0.j, 0.+0.j, 0.+0.j, 0.+0.j, 0.+0.j, 0.+0.j,\n",
       "       0.+0.j, 0.+0.j, 0.+0.j, 0.+0.j, 0.+0.j, 0.+0.j, 0.+0.j, 0.+0.j,\n",
       "       0.+0.j, 0.+0.j, 0.+0.j, 0.+0.j, 0.+0.j, 0.+0.j, 0.+0.j, 0.+0.j,\n",
       "       0.+0.j, 0.+0.j, 0.+0.j, 0.+0.j, 1.+0.j, 0.+0.j, 0.+0.j, 0.+0.j,\n",
       "       0.+0.j, 0.+0.j, 0.+0.j, 0.+0.j, 0.+0.j, 0.+0.j, 0.+0.j, 0.+0.j,\n",
       "       0.+0.j, 0.+0.j, 0.+0.j, 0.+0.j, 0.+0.j, 0.+0.j, 0.+0.j, 0.+0.j,\n",
       "       0.+0.j, 0.+0.j, 0.+0.j, 0.+0.j, 0.+0.j, 0.+0.j, 0.+0.j, 0.+0.j,\n",
       "       0.+0.j, 0.+0.j, 0.+0.j, 0.+0.j, 0.+0.j, 0.+0.j, 0.+0.j, 0.+0.j])"
      ]
     },
     "execution_count": 378,
     "metadata": {},
     "output_type": "execute_result"
    }
   ],
   "source": [
    "def bx(x,p,L):\n",
    "    out = bin((2**L)*x)[2:]\n",
    "    Lb = len(out)\n",
    "    for i in range(Lb,p+L):\n",
    "        out = '0'+out\n",
    "    return out\n",
    "\n",
    "x = 7\n",
    "print(bx(x,p,L))\n",
    "qi.Statevector.from_label(bx(x,p,L)).data"
   ]
  },
  {
   "cell_type": "markdown",
   "metadata": {},
   "source": [
    "## Eigensolver"
   ]
  },
  {
   "cell_type": "code",
   "execution_count": 393,
   "metadata": {},
   "outputs": [],
   "source": [
    "psi_mix = 1/2*(psi[0]-psi[1]+psi[2]+1j*psi[3])\n",
    "Pl, xl, theta, phase = QPE(U,psi_mix,6)"
   ]
  },
  {
   "cell_type": "code",
   "execution_count": 394,
   "metadata": {},
   "outputs": [
    {
     "data": {
      "text/plain": [
       "[<matplotlib.lines.Line2D at 0x1acdc3e9a00>]"
      ]
     },
     "execution_count": 394,
     "metadata": {},
     "output_type": "execute_result"
    },
    {
     "data": {
      "image/png": "[encoded data removed]",
      "text/plain": [
       "<Figure size 432x288 with 1 Axes>"
      ]
     },
     "metadata": {
      "needs_background": "light"
     },
     "output_type": "display_data"
    }
   ],
   "source": [
    "import matplotlib.pyplot as plt\n",
    "\n",
    "plt.plot(xl,Pl)"
   ]
  },
  {
   "cell_type": "markdown",
   "metadata": {},
   "source": [
    "Notice that all peaks are generally present when the initial sate is a mix of eigenvalues.  To prepare the ground state, we find the peak which corresponds to the lowest eigenvalue and then keep the first state we find whose ancilla measurment is in this peak."
   ]
  },
  {
   "cell_type": "code",
   "execution_count": null,
   "metadata": {},
   "outputs": [],
   "source": []
  }
 ],
 "metadata": {
  "kernelspec": {
   "display_name": "Python [conda env:qiskit20_new]",
   "language": "python",
   "name": "conda-env-qiskit20_new-py"
  },
  "language_info": {
   "codemirror_mode": {
    "name": "ipython",
    "version": 3
   },
   "file_extension": ".py",
   "mimetype": "text/x-python",
   "name": "python",
   "nbconvert_exporter": "python",
   "pygments_lexer": "ipython3",
   "version": "3.8.5"
  }
 },
 "nbformat": 4,
 "nbformat_minor": 4
}
