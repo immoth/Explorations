{
 "cells": [
  {
   "cell_type": "markdown",
   "metadata": {},
   "source": [
    "# Here I will explore the resonance transistion Eigansolver descirbed here:\n",
    "\n",
    "https://arxiv.org/pdf/1706.08644.pdf"
   ]
  },
  {
   "cell_type": "code",
   "execution_count": 1,
   "metadata": {},
   "outputs": [
    {
     "name": "stderr",
     "output_type": "stream",
     "text": [
      "C:\\Users\\jsten\\Anaconda3\\envs\\new_qiskit\\lib\\site-packages\\qiskit\\__init__.py:62: RuntimeWarning: Could not import the Aer provider from the qiskit-aer package. Install qiskit-aer or check your installation.\n",
      "  warnings.warn('Could not import the Aer provider from the qiskit-aer '\n",
      "C:\\Users\\jsten\\Anaconda3\\envs\\new_qiskit\\lib\\site-packages\\qiskit\\__init__.py:72: RuntimeWarning: Could not import the IBMQ provider from the qiskit-ibmq-provider package. Install qiskit-ibmq-provider or check your installation.\n",
      "  warnings.warn('Could not import the IBMQ provider from the '\n"
     ]
    }
   ],
   "source": [
    "from qiskit import quantum_info as qi\n",
    "import numpy as np\n",
    "import pandas as pd\n",
    "import numpy.linalg as lng\n",
    "import random as rnd\n",
    "pd.options.display.float_format = '{:,.1f}'.format"
   ]
  },
  {
   "cell_type": "code",
   "execution_count": 2,
   "metadata": {},
   "outputs": [],
   "source": [
    "def I0(L):\n",
    "    label = \"\"\n",
    "    for i in range(0,L):\n",
    "        label += \"I\"\n",
    "    return qi.Operator.from_label(label).data\n",
    "\n",
    "def X(l,L):\n",
    "    label = \"\"\n",
    "    for i in range(0,l):\n",
    "        label += \"I\"\n",
    "    label += \"X\"\n",
    "    for i in range(l+1,L):\n",
    "        label += \"I\"\n",
    "    return qi.Operator.from_label(label).data\n",
    "\n",
    "def Y(l,L):\n",
    "    label = \"\"\n",
    "    for i in range(0,l):\n",
    "        label += \"I\"\n",
    "    label += \"Y\"\n",
    "    for i in range(l+1,L):\n",
    "        label += \"I\"\n",
    "    return qi.Operator.from_label(label).data\n",
    "\n",
    "def Z(l,L):\n",
    "    label = \"\"\n",
    "    for i in range(0,l):\n",
    "        label += \"I\"\n",
    "    label += \"Z\"\n",
    "    for i in range(l+1,L):\n",
    "        label += \"I\"\n",
    "    return qi.Operator.from_label(label).data\n",
    "    \n",
    "def gx(l,L):\n",
    "    label = \"\"\n",
    "    for i in range(0,l):\n",
    "        label += \"Z\"\n",
    "    label += \"X\"\n",
    "    for i in range(l+1,L):\n",
    "        label += \"I\"\n",
    "    return qi.Operator.from_label(label).data\n",
    "\n",
    "def gy(l,L):\n",
    "    label = \"\"\n",
    "    for i in range(0,l):\n",
    "        label += \"Z\"\n",
    "    label += \"Y\"\n",
    "    for i in range(l+1,L):\n",
    "        label += \"I\"\n",
    "    return qi.Operator.from_label(label).data\n",
    "\n",
    "def cd(l,L):\n",
    "    return 1/2*(gx(l,L)+1j*gy(l,L))\n",
    "\n",
    "def c(l,L):\n",
    "    return 1/2*(gx(l,L)-1j*gy(l,L))"
   ]
  },
  {
   "cell_type": "code",
   "execution_count": 3,
   "metadata": {},
   "outputs": [],
   "source": [
    "def bkt(psi_a,U,psi_b):\n",
    "    return np.dot(np.conjugate(psi_a),np.dot(U,psi_b))\n",
    "\n",
    "def Mdot(Ol):\n",
    "    m = Ol[0]\n",
    "    for i in range(1,len(Ol)):\n",
    "        m = np.dot(Ol[i],m)\n",
    "    return m"
   ]
  },
  {
   "cell_type": "code",
   "execution_count": 4,
   "metadata": {},
   "outputs": [],
   "source": [
    "mu = 0.3\n",
    "t = -0.7\n",
    "\n",
    "H0 = mu*(Mdot([cd(0,2),c(0,2)]) + Mdot([cd(1,2),c(1,2)])) + t*(Mdot([cd(0,2),c(1,2)]) + Mdot([cd(1,2),c(0,2)]))"
   ]
  },
  {
   "cell_type": "code",
   "execution_count": 250,
   "metadata": {},
   "outputs": [
    {
     "name": "stdout",
     "output_type": "stream",
     "text": [
      "         0         1         2        3\n",
      "0 0.0+0.0j  0.0+0.0j  0.0+0.0j 0.0+0.0j\n",
      "1 0.0+0.0j  0.3+0.0j -0.7+0.0j 0.0+0.0j\n",
      "2 0.0+0.0j -0.7+0.0j  0.3+0.0j 0.0+0.0j\n",
      "3 0.0+0.0j  0.0+0.0j  0.0+0.0j 0.6+0.0j\n",
      "[ 1. +0.j -0.4+0.j  0. +0.j  0.6+0.j]\n"
     ]
    },
    {
     "data": {
      "text/plain": [
       "array([0.        -0.j, 0.70710678-0.j, 0.70710678-0.j, 0.        -0.j])"
      ]
     },
     "execution_count": 250,
     "metadata": {},
     "output_type": "execute_result"
    }
   ],
   "source": [
    "print(pd.DataFrame(H0))\n",
    "e0,y0 = lng.eig(H0)\n",
    "psi0 = np.conjugate(np.transpose(y0))\n",
    "print(e0)\n",
    "psi0[1]"
   ]
  },
  {
   "cell_type": "code",
   "execution_count": 352,
   "metadata": {},
   "outputs": [],
   "source": [
    "def Hb(w):\n",
    "    return 1/2*w*Z(2,3)\n",
    "\n",
    "#Note: There must be an asymmetery in qubit coupling to see both peaks\n",
    "def Hx(Cx):\n",
    "    A = Cx*(Mdot([cd(0,3),X(2,3)])+Mdot([X(2,3),c(0,3)])+0.3*Mdot([cd(1,3),X(2,3)])+0.3*Mdot([X(2,3),c(1,3)]))\n",
    "    #B = 2.7*Cx*(Mdot([cd(0,3),cd(1,3),X(2,3)])+Mdot([c(1,3),c(0,3),X(2,3)]))\n",
    "    return A\n",
    "\n",
    "def H(cx, w):\n",
    "    return np.kron(H0,I0(1))+Hb(w)+Hx(cx)"
   ]
  },
  {
   "cell_type": "code",
   "execution_count": 353,
   "metadata": {},
   "outputs": [
    {
     "data": {
      "text/plain": [
       "(1.1102230246251565e-16+1.1102230246251565e-16j)"
      ]
     },
     "execution_count": 353,
     "metadata": {},
     "output_type": "execute_result"
    }
   ],
   "source": [
    "\n",
    "\n",
    "#print(np.amax(np.abs(Mdot([psi,eD,psi_d])-H)))\n",
    "\n",
    "def U(cx,w,t):\n",
    "    e,psi_d = lng.eig(H(cx,w))\n",
    "    psi = np.conjugate(np.transpose(psi_d))\n",
    "    eD = np.diag(e)\n",
    "    exp = np.exp(1j*e*t)\n",
    "    expD = np.diag(exp)\n",
    "    return Mdot([psi,expD,psi_d])\n",
    "\n",
    "n=1;\n",
    "w=0.3\n",
    "t=0.8\n",
    "cx=0.3\n",
    "e,psi_d = lng.eig(H(cx,w))\n",
    "psi = np.conjugate(np.transpose(psi_d))\n",
    "eD = np.diag(e)\n",
    "bkt(psi[n],U(cx,w,t),psi[n])-np.exp(1j*e[n]*t)"
   ]
  },
  {
   "cell_type": "code",
   "execution_count": 354,
   "metadata": {},
   "outputs": [],
   "source": [
    "\n",
    "def measure(psi):\n",
    "    P = bkt(psi,Z(2,3),psi)\n",
    "    P0=(1+P)/2\n",
    "    P1=(1-P)/2\n",
    "    m = rnd.choices([1,-1],weights = [P0,P1])[0]\n",
    "    Project = np.kron(I0(2),1/2*(I0(1)+m*Z(0,1)))\n",
    "    psi = Mdot([Project,psi])\n",
    "    norm = np.sqrt(bkt(psi,I0(3),psi))\n",
    "    psi = psi/norm\n",
    "    return m,psi\n",
    "\n"
   ]
  },
  {
   "cell_type": "code",
   "execution_count": 355,
   "metadata": {},
   "outputs": [],
   "source": [
    "def step(psi,cx,w,t):\n",
    "    psi = Mdot([U(cx,w,t),psi])\n",
    "    m,psi = measure(psi)\n",
    "    return m,psi"
   ]
  },
  {
   "cell_type": "code",
   "execution_count": 364,
   "metadata": {},
   "outputs": [],
   "source": [
    "import copy \n",
    "\n",
    "psiA = np.sqrt(0.2)*qi.Statevector.from_label('-+1').data ++np.sqrt(0.7)*qi.Statevector.from_label('+-1').data + np.sqrt(0.3)*qi.Statevector.from_label('++1').data\n",
    "psiA = psiA/np.sqrt(bkt(psiA,I0(3),psiA))\n",
    "wl = [wi*0.01 for wi in range(0,300)]\n",
    "\n",
    "t = 200.0\n",
    "cx = 0.01\n",
    "Ns = 100\n",
    "pl = []\n",
    "for w in wl:\n",
    "    psiS = psiA\n",
    "    psiS = Mdot([U(cx,w,t),psiS])\n",
    "    pw = bkt(psiS,Z(2,3),psiS)\n",
    "\n",
    "    pl.append(pw)"
   ]
  },
  {
   "cell_type": "code",
   "execution_count": 365,
   "metadata": {},
   "outputs": [
    {
     "data": {
      "image/png": "[encoded data removed]",
      "text/plain": [
       "<Figure size 432x288 with 1 Axes>"
      ]
     },
     "metadata": {
      "needs_background": "light"
     },
     "output_type": "display_data"
    }
   ],
   "source": [
    "import matplotlib.pyplot as plt\n",
    "\n",
    "marker = [0 for i in e0]\n",
    "gt = [e0[i]-e0[1] for i in range(0,len(e0))]\n",
    "\n",
    "plt.plot(wl,pl)\n",
    "plt.scatter(gt,marker)\n",
    "plt.show()"
   ]
  },
  {
   "cell_type": "code",
   "execution_count": 366,
   "metadata": {},
   "outputs": [],
   "source": [
    "import copy \n",
    "\n",
    "psiA = np.sqrt(0.7)*qi.Statevector.from_label('+-1').data + np.sqrt(0.3)*qi.Statevector.from_label('++1').data\n",
    "wl = [wi*0.1 for wi in range(0,30)]\n",
    "\n",
    "t = 200.0\n",
    "cx = 0.01\n",
    "Ns = 100\n",
    "pl = []\n",
    "for w in wl:\n",
    "    pw = []\n",
    "    for s in range(0,Ns):\n",
    "        psiS = psiA\n",
    "        m,psi = step(psiS,cx,w,t)\n",
    "        pw.append(m)\n",
    "\n",
    "    pl.append(sum(pw)/Ns)"
   ]
  },
  {
   "cell_type": "code",
   "execution_count": 367,
   "metadata": {},
   "outputs": [
    {
     "data": {
      "image/png": "[encoded data removed]",
      "text/plain": [
       "<Figure size 432x288 with 1 Axes>"
      ]
     },
     "metadata": {
      "needs_background": "light"
     },
     "output_type": "display_data"
    }
   ],
   "source": [
    "plt.plot(wl,pl)\n",
    "plt.scatter(gt,marker)\n",
    "plt.show()"
   ]
  },
  {
   "cell_type": "markdown",
   "metadata": {},
   "source": [
    "## Now let us switch to the two qubit register used for ground state preperation"
   ]
  },
  {
   "cell_type": "code",
   "execution_count": 463,
   "metadata": {},
   "outputs": [],
   "source": [
    "Hb =-1/2*Z(0,4)\n",
    "\n",
    "def Hx(cx):\n",
    "    return cx*(Mdot([X(0,4),X(1,4)])) \n",
    "\n",
    "def HR(w):\n",
    "    w0 = w+1\n",
    "    return (w0*I0(3)+w0*Z(0,3)+np.kron(I0(1),H0)-np.kron(Z(0,1),H0))/2\n",
    "\n",
    "def H(cx,w):\n",
    "    return Hb + Hx(cx) + np.kron(I0(1),HR(w))\n",
    "    "
   ]
  },
  {
   "cell_type": "code",
   "execution_count": 464,
   "metadata": {},
   "outputs": [
    {
     "data": {
      "text/plain": [
       "(1.1102230246251565e-16+2.7755575615628914e-17j)"
      ]
     },
     "execution_count": 464,
     "metadata": {},
     "output_type": "execute_result"
    }
   ],
   "source": [
    "def U(cx,w,t):\n",
    "    e,psi_d = lng.eig(H(cx,w))\n",
    "    psi = np.conjugate(np.transpose(psi_d))\n",
    "    eD = np.diag(e)\n",
    "    exp = np.exp(1j*e*t)\n",
    "    expD = np.diag(exp)\n",
    "    return Mdot([psi,expD,psi_d])\n",
    "\n",
    "#Check U\n",
    "n=1;\n",
    "w=0.3\n",
    "t=0.8\n",
    "cx=0.3\n",
    "e,psi_d = lng.eig(H(cx,w))\n",
    "psi = np.conjugate(np.transpose(psi_d))\n",
    "eD = np.diag(e)\n",
    "bkt(psi[n],U(cx,w,t),psi[n])-np.exp(1j*e[n]*t)"
   ]
  },
  {
   "cell_type": "markdown",
   "metadata": {},
   "source": [
    "### Find the energy"
   ]
  },
  {
   "cell_type": "code",
   "execution_count": 467,
   "metadata": {},
   "outputs": [],
   "source": [
    "psiA = np.sqrt(0.2)*qi.Statevector.from_label('00-+').data ++np.sqrt(0.7)*qi.Statevector.from_label('00+-').data + np.sqrt(0.3)*qi.Statevector.from_label('00++').data\n",
    "psiA = psiA/np.sqrt(bkt(psiA,I0(4),psiA))\n",
    "wl = [wi*0.01-1 for wi in range(0,300)]\n",
    "\n",
    "t = 200.0\n",
    "cx = 0.01\n",
    "Ns = 100\n",
    "pl = []\n",
    "for w in wl:\n",
    "    psiS = psiA\n",
    "    psiS = Mdot([U(cx,w,t),psiS])\n",
    "    pw = bkt(psiS,Z(0,4),psiS)\n",
    "\n",
    "    pl.append(pw)"
   ]
  },
  {
   "cell_type": "code",
   "execution_count": 469,
   "metadata": {},
   "outputs": [
    {
     "data": {
      "image/png": "[encoded data removed]",
      "text/plain": [
       "<Figure size 432x288 with 1 Axes>"
      ]
     },
     "metadata": {
      "needs_background": "light"
     },
     "output_type": "display_data"
    }
   ],
   "source": [
    "marker = [1 for i in e0]\n",
    "\n",
    "plt.plot(wl,pl)\n",
    "plt.scatter(e0,marker)\n",
    "plt.show()"
   ]
  },
  {
   "cell_type": "markdown",
   "metadata": {},
   "source": [
    "### Find the ground state"
   ]
  },
  {
   "cell_type": "code",
   "execution_count": 475,
   "metadata": {},
   "outputs": [],
   "source": [
    "def measure(psi):\n",
    "    P = bkt(psi,Z(0,4),psi)\n",
    "    P0=(1+P)/2\n",
    "    P1=(1-P)/2\n",
    "    m = rnd.choices([1,-1],weights = [P0,P1])[0]\n",
    "    Project = I0(4)+m*Z(0,4)\n",
    "    psi = Mdot([Project,psi])\n",
    "    norm = np.sqrt(bkt(psi,I0(4),psi))\n",
    "    psi = psi/norm\n",
    "    return m,psi"
   ]
  },
  {
   "cell_type": "code",
   "execution_count": 476,
   "metadata": {},
   "outputs": [],
   "source": [
    "psiA = np.sqrt(0.2)*qi.Statevector.from_label('00-+').data ++np.sqrt(0.7)*qi.Statevector.from_label('00+-').data + np.sqrt(0.3)*qi.Statevector.from_label('00++').data\n",
    "psiA = psiA/np.sqrt(bkt(psiA,I0(4),psiA))\n",
    "\n",
    "t = 200.0\n",
    "cx = 0.01\n",
    "Nk = 50\n",
    "pl = []\n",
    "psiS = psiA\n",
    "k = 0\n",
    "while k < Nk:\n",
    "    psiW = psiS\n",
    "    psiW = Mdot([U(cx,e0[1],t),psiW])\n",
    "    m,psiM = measure(psiW)\n",
    "    if m > 0.9999:\n",
    "        k = k+1\n",
    "        psiS = Mdot([X(0,4),X(1,4),psiM])\n",
    "\n",
    "\n"
   ]
  },
  {
   "cell_type": "code",
   "execution_count": 491,
   "metadata": {},
   "outputs": [
    {
     "data": {
      "text/plain": [
       "1.0000000000000004"
      ]
     },
     "execution_count": 491,
     "metadata": {},
     "output_type": "execute_result"
    }
   ],
   "source": [
    "psi0C = np.kron([0,0,0,1],psi0[1])\n",
    "np.abs(bkt(psiS,I0(4),psi0C))**2"
   ]
  },
  {
   "cell_type": "code",
   "execution_count": 492,
   "metadata": {},
   "outputs": [
    {
     "data": {
      "text/plain": [
       "'C:\\\\Users\\\\jsten\\\\IBMQ\\\\Explorations'"
      ]
     },
     "execution_count": 492,
     "metadata": {},
     "output_type": "execute_result"
    }
   ],
   "source": [
    "pwd"
   ]
  },
  {
   "cell_type": "code",
   "execution_count": null,
   "metadata": {},
   "outputs": [],
   "source": []
  }
 ],
 "metadata": {
  "kernelspec": {
   "display_name": "Python [conda env:new_qiskit]",
   "language": "python",
   "name": "conda-env-new_qiskit-py"
  },
  "language_info": {
   "codemirror_mode": {
    "name": "ipython",
    "version": 3
   },
   "file_extension": ".py",
   "mimetype": "text/x-python",
   "name": "python",
   "nbconvert_exporter": "python",
   "pygments_lexer": "ipython3",
   "version": "3.8.3"
  }
 },
 "nbformat": 4,
 "nbformat_minor": 4
}
